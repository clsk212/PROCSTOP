{
 "cells": [
  {
   "cell_type": "markdown",
   "metadata": {},
   "source": [
    "# Emotion Understanding Recommendation"
   ]
  },
  {
   "cell_type": "markdown",
   "metadata": {},
   "source": [
    "## Libraries"
   ]
  },
  {
   "cell_type": "code",
   "execution_count": null,
   "metadata": {
    "ExecuteTime": {
     "end_time": "2024-05-24T20:22:54.750260Z",
     "start_time": "2024-05-24T20:22:54.743706Z"
    }
   },
   "outputs": [
    {
     "ename": "",
     "evalue": "",
     "output_type": "error",
     "traceback": [
      "\u001b[1;31mRunning cells with '.venv (Python 3.12.0)' requires the ipykernel package.\n",
      "\u001b[1;31mRun the following command to install 'ipykernel' into the Python environment. \n",
      "\u001b[1;31mCommand: 'c:/Users/cpere/Desktop/TFM/PROCSTOP/.venv/Scripts/python.exe -m pip install ipykernel -U --force-reinstall'"
     ]
    }
   ],
   "source": [
    "from pathlib import Path\n",
    "import os\n",
    "import shutil"
   ]
  },
  {
   "cell_type": "markdown",
   "metadata": {},
   "source": [
    "## Data Load"
   ]
  },
  {
   "cell_type": "code",
   "execution_count": 2,
   "metadata": {
    "ExecuteTime": {
     "end_time": "2024-05-24T20:22:56.628661Z",
     "start_time": "2024-05-24T20:22:56.620943Z"
    }
   },
   "outputs": [],
   "source": [
    "def RAVDESS_dataset_selection(file):\n",
    "    # Creating file into output directory \n",
    "    mp4_file = os.path.join('/kaggle/working/','RADVESS_dataset', emotion_selection()[file.stem.split('-')[2]], file.name)\n",
    "    # Checking if the file already exists \n",
    "    if os.path.exists(mp4_file):\n",
    "        pass\n",
    "    else:\n",
    "        # checking directory (if it doesn't exist, it will be created) and copying file\n",
    "        os.makedirs(os.path.join('/kaggle/working/', 'RADVESS_dataset', emotion_selection()[file.stem.split('-')[2]]), exist_ok=True)\n",
    "        shutil.copyfile(file,mp4_file) \n",
    "\n",
    "def emotion_selection(emotion_list = False):\n",
    "    '''\n",
    "    It will output a list with the keys for the selected emotions \n",
    "    Args:\n",
    "        emotion_lis: a list os strings with the name of the emotions you want to extract \n",
    "    '''\n",
    "    class_names = {'01': 'Neutral', '02': 'Calm' ,'03': 'Happy','04': 'Sad', '05': 'Angry','06': 'Fearful','07': 'Disgust', '08': 'Surprised'}\n",
    "    if emotion_list:\n",
    "        keys = list(filter(lambda x: class_names[x] in emotion_list, class_names))\n",
    "        return dict(zip([class_names[value] for value in keys], keys))\n",
    "    else:\n",
    "        return class_names "
   ]
  },
  {
   "cell_type": "code",
   "execution_count": 4,
   "metadata": {
    "ExecuteTime": {
     "end_time": "2024-05-24T20:23:08.754424Z",
     "start_time": "2024-05-24T20:23:08.729732Z"
    }
   },
   "outputs": [
    {
     "data": {
      "text/plain": [
       "[]"
      ]
     },
     "execution_count": 4,
     "metadata": {},
     "output_type": "execute_result"
    }
   ],
   "source": [
    "path = Path('/kaggle/input/ravdess-emotional-speech-video/RAVDESS dataset')\n",
    "RAVDESS_paths = list(path.glob('*/*/*.mp4')) # listing all the files from input dataset \n",
    "RAVDESS_paths= [path for path in RAVDESS_paths if path.stem.split('-')[0] =='01'and path.stem.split('-')[2] in emotion_selection().keys()]\n",
    "list(map(RAVDESS_dataset_selection, RAVDESS_paths))"
   ]
  },
  {
   "cell_type": "code",
   "execution_count": null,
   "metadata": {},
   "outputs": [],
   "source": []
  },
  {
   "cell_type": "code",
   "execution_count": null,
   "metadata": {},
   "outputs": [],
   "source": []
  }
 ],
 "metadata": {
  "hide_input": false,
  "kernelspec": {
   "display_name": ".venv",
   "language": "python",
   "name": "python3"
  },
  "language_info": {
   "codemirror_mode": {
    "name": "ipython",
    "version": 3
   },
   "file_extension": ".py",
   "mimetype": "text/x-python",
   "name": "python",
   "nbconvert_exporter": "python",
   "pygments_lexer": "ipython3",
   "version": "3.12.0"
  }
 },
 "nbformat": 4,
 "nbformat_minor": 2
}
